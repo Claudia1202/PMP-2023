{
  "nbformat": 4,
  "nbformat_minor": 0,
  "metadata": {
    "colab": {
      "provenance": [],
      "authorship_tag": "ABX9TyP9yEoUk5rRrrweRAcg0rvk",
      "include_colab_link": true
    },
    "kernelspec": {
      "name": "python3",
      "display_name": "Python 3"
    },
    "language_info": {
      "name": "python"
    }
  },
  "cells": [
    {
      "cell_type": "markdown",
      "metadata": {
        "id": "view-in-github",
        "colab_type": "text"
      },
      "source": [
        "<a href=\"https://colab.research.google.com/github/Claudia1202/PMP-2023/blob/main/Lab03/lab3.ipynb\" target=\"_parent\"><img src=\"https://colab.research.google.com/assets/colab-badge.svg\" alt=\"Open In Colab\"/></a>"
      ]
    },
    {
      "cell_type": "code",
      "execution_count": 5,
      "metadata": {
        "colab": {
          "base_uri": "https://localhost:8080/",
          "height": 655
        },
        "id": "Tfcvhdd0xPJH",
        "outputId": "7306d201-612c-4bcf-9496-acdda19381f3"
      },
      "outputs": [
        {
          "output_type": "stream",
          "name": "stdout",
          "text": [
            "+------+----------+\n",
            "| A    |   phi(A) |\n",
            "+======+==========+\n",
            "| A(0) |   0.9418 |\n",
            "+------+----------+\n",
            "| A(1) |   0.0582 |\n",
            "+------+----------+\n"
          ]
        },
        {
          "output_type": "display_data",
          "data": {
            "text/plain": [
              "<Figure size 640x480 with 1 Axes>"
            ],
            "image/png": "[encoded data removed]"
          },
          "metadata": {}
        },
        {
          "output_type": "stream",
          "name": "stdout",
          "text": [
            "0.6740911162792246\n"
          ]
        }
      ],
      "source": [
        "from pgmpy.models import BayesianNetwork\n",
        "from pgmpy.factors.discrete import TabularCPD\n",
        "from pgmpy.inference import VariableElimination\n",
        "import matplotlib.pyplot as plt\n",
        "import networkx as nx\n",
        "import matplotlib.pyplot as plt\n",
        "import networkx as nx\n",
        "\n",
        "model = BayesianNetwork([('C', 'I'), ('C', 'A'), ('I', 'A')])\n",
        "\n",
        "cpd_cutremur = TabularCPD(variable='C', variable_card=2, values=[[0.9995], [0.0005]])\n",
        "cpd_incendiu = TabularCPD(variable='I', variable_card=2, values=[[0.01, 0.03], [0.99, 0.97]], evidence=['C'], evidence_card=[2])\n",
        "cpd_alarma = TabularCPD(variable='A', variable_card=2, values=[[0.98, 0.02, 0.03, 0.97], [0.02, 0.98, 0.97, 0.03]], evidence=['C', 'I'], evidence_card=[2, 2])\n",
        "\n",
        "model.add_cpds(cpd_cutremur, cpd_incendiu, cpd_alarma)\n",
        "\n",
        "assert model.check_model()\n",
        "\n",
        "infer = VariableElimination(model)\n",
        "result = infer.query(variables=['A'], evidence={'C': 1})\n",
        "print(result)\n",
        "\n",
        "#desen\n",
        "pos = nx.circular_layout(model)\n",
        "nx.draw(model, pos=pos, with_labels=True, node_size=4000, font_weight='bold', node_color='skyblue')\n",
        "plt.show()\n",
        "\n",
        "# 3.\n",
        "inference = VariableElimination(model)\n",
        "result = inference.query(variables=['I'], evidence={'A': 0})\n",
        "prob_incendiu_fara_alarma = result.values[1]\n",
        "print( prob_incendiu_fara_alarma)\n"
      ]
    },
    {
      "cell_type": "code",
      "source": [
        "pip install pgmpy"
      ],
      "metadata": {
        "id": "bfUxa5-cxWHV"
      },
      "execution_count": null,
      "outputs": []
    }
  ]
}